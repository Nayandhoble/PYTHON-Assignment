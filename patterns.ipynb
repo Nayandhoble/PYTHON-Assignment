{
  "nbformat": 4,
  "nbformat_minor": 0,
  "metadata": {
    "colab": {
      "name": "patterns",
      "provenance": [],
      "authorship_tag": "ABX9TyNfoQHkmgjWe0MvfBDb01T3",
      "include_colab_link": true
    },
    "kernelspec": {
      "name": "python3",
      "display_name": "Python 3"
    },
    "language_info": {
      "name": "python"
    }
  },
  "cells": [
    {
      "cell_type": "markdown",
      "metadata": {
        "id": "view-in-github",
        "colab_type": "text"
      },
      "source": [
        "<a href=\"https://colab.research.google.com/github/Nayandhoble/PYTHON-Assignment/blob/main/patterns.ipynb\" target=\"_parent\"><img src=\"https://colab.research.google.com/assets/colab-badge.svg\" alt=\"Open In Colab\"/></a>"
      ]
    },
    {
      "cell_type": "markdown",
      "source": [
        ""
      ],
      "metadata": {
        "id": "HbqiqFgIq684"
      }
    },
    {
      "cell_type": "markdown",
      "source": [
        "print:\n",
        "\n",
        "1  \n",
        "1 2  \n",
        "1 2 3  \n",
        "1 2 3 4  \n",
        "1 2 3 4 5 "
      ],
      "metadata": {
        "id": "CbWozARrrORB"
      }
    },
    {
      "cell_type": "code",
      "source": [
        "n=int(input(\"Enter a no: \"))\n",
        "for i in range(1,n+1):#\n",
        "    for j in range(1,i+1):\n",
        "        print(j, end=\" \")\n",
        "    print(\" \")"
      ],
      "metadata": {
        "colab": {
          "base_uri": "https://localhost:8080/"
        },
        "id": "DlUgbyVarBZ0",
        "outputId": "1752e45e-2520-4f07-a8b9-2c220aea926f"
      },
      "execution_count": 1,
      "outputs": [
        {
          "output_type": "stream",
          "name": "stdout",
          "text": [
            "Enter a no: 5\n",
            "1  \n",
            "1 2  \n",
            "1 2 3  \n",
            "1 2 3 4  \n",
            "1 2 3 4 5  \n"
          ]
        }
      ]
    },
    {
      "cell_type": "markdown",
      "source": [
        "print :\n",
        "1  \n",
        "2 2  \n",
        "3 3 3  \n",
        "4 4 4 4  \n",
        "5 5 5 5 5 "
      ],
      "metadata": {
        "id": "1Fywcw4mrUcG"
      }
    },
    {
      "cell_type": "code",
      "source": [
        "n=int(input(\"Enter a no: \"))\n",
        "for i in range(1,n+1):#to print rows\n",
        "    for j in range(1,i+1):#to print coloumns\n",
        "        print(i, end=\" \")\n",
        "    print(\" \")"
      ],
      "metadata": {
        "colab": {
          "base_uri": "https://localhost:8080/"
        },
        "id": "Xzvqp95erCok",
        "outputId": "de30bb06-1a5c-44a8-c062-7d84eb9116db"
      },
      "execution_count": 2,
      "outputs": [
        {
          "output_type": "stream",
          "name": "stdout",
          "text": [
            "Enter a no: 5\n",
            "1  \n",
            "2 2  \n",
            "3 3 3  \n",
            "4 4 4 4  \n",
            "5 5 5 5 5  \n"
          ]
        }
      ]
    },
    {
      "cell_type": "markdown",
      "source": [
        "4."
      ],
      "metadata": {
        "id": "wYlfxOyGrsDv"
      }
    },
    {
      "cell_type": "code",
      "source": [
        "n=int(input(\"Enter a no: \"))\n",
        "for i in range(1,n+1):#to print rows\n",
        "    for j in range(1,i+1):#to print coloumns\n",
        "        print(j, end=\" \")\n",
        "    print(\" \")\n",
        "for a in range(1,n):#to print rows\n",
        "    for b in range(1,n-a+1):#to print coloumns\n",
        "        print(b, end=\" \")\n",
        "    print(\" \")"
      ],
      "metadata": {
        "colab": {
          "base_uri": "https://localhost:8080/"
        },
        "id": "Dl50HyAzrtzq",
        "outputId": "8c1e14a6-a4e4-4473-e496-7f0ea9d9e5cc"
      },
      "execution_count": 3,
      "outputs": [
        {
          "output_type": "stream",
          "name": "stdout",
          "text": [
            "Enter a no: 5\n",
            "1  \n",
            "1 2  \n",
            "1 2 3  \n",
            "1 2 3 4  \n",
            "1 2 3 4 5  \n",
            "1 2 3 4  \n",
            "1 2 3  \n",
            "1 2  \n",
            "1  \n"
          ]
        }
      ]
    },
    {
      "cell_type": "code",
      "source": [
        "#pattern 5\n",
        "n=int(input(\"Enter a no: \"))\n",
        "for a in range(1,n+1):\n",
        "    for b in range(1,n-a+2):\n",
        "        print(b, end=\" \")\n",
        "    print(\" \")\n",
        "for i in range(1,n+1):#to print rows\n",
        "    for j in range(1,i+1):#to print coloumns\n",
        "        print(j, end=\" \")\n",
        "    print(\" \")"
      ],
      "metadata": {
        "colab": {
          "base_uri": "https://localhost:8080/"
        },
        "id": "t5kNTUqqru-M",
        "outputId": "27191fd8-b18f-49e8-a5f0-716c8066dada"
      },
      "execution_count": 4,
      "outputs": [
        {
          "output_type": "stream",
          "name": "stdout",
          "text": [
            "Enter a no: 5\n",
            "1 2 3 4 5  \n",
            "1 2 3 4  \n",
            "1 2 3  \n",
            "1 2  \n",
            "1  \n",
            "1  \n",
            "1 2  \n",
            "1 2 3  \n",
            "1 2 3 4  \n",
            "1 2 3 4 5  \n"
          ]
        }
      ]
    },
    {
      "cell_type": "code",
      "source": [
        "n=int(input(\"Enter a no: \"))\n",
        "for i in range(1,n+1):#to print rows\n",
        "    for j in range(1,n-i+2):#to print coloumns\n",
        "        print(n-j+1, end=\" \")\n",
        "    print(\" \")"
      ],
      "metadata": {
        "colab": {
          "base_uri": "https://localhost:8080/"
        },
        "id": "WSDXLgAtr8XR",
        "outputId": "9b390104-3ef7-4898-a6d1-4bc4bf9547ca"
      },
      "execution_count": 5,
      "outputs": [
        {
          "output_type": "stream",
          "name": "stdout",
          "text": [
            "Enter a no: 5\n",
            "5 4 3 2 1  \n",
            "5 4 3 2  \n",
            "5 4 3  \n",
            "5 4  \n",
            "5  \n"
          ]
        }
      ]
    },
    {
      "cell_type": "code",
      "source": [
        "n=int(input(\"Enter a no: \"))\n",
        "for i in range(1,n+1):\n",
        "    for a in range(1,n-i+1):\n",
        "        print(\" \",end=\"\")\n",
        "    for j in range(1,i+1):\n",
        "        print(j, end=\" \")\n",
        "    print(\" \")"
      ],
      "metadata": {
        "colab": {
          "base_uri": "https://localhost:8080/"
        },
        "id": "BPodM5ZcsOpS",
        "outputId": "dbf06764-eecf-472f-f32b-013d5848a065"
      },
      "execution_count": 7,
      "outputs": [
        {
          "output_type": "stream",
          "name": "stdout",
          "text": [
            "Enter a no: 5\n",
            "    1  \n",
            "   1 2  \n",
            "  1 2 3  \n",
            " 1 2 3 4  \n",
            "1 2 3 4 5  \n"
          ]
        }
      ]
    },
    {
      "cell_type": "code",
      "source": [
        "aa=int(input(\"Enter a no: \"))\n",
        "for i in range(n,0,-1):\n",
        "    for j in range(1,i+1):\n",
        "        print(n-j+1, end=\" \")\n",
        "    print(\" \")"
      ],
      "metadata": {
        "colab": {
          "base_uri": "https://localhost:8080/"
        },
        "id": "oWzIv-jMscoE",
        "outputId": "9ffbb09f-3513-4435-e63b-73dc6c9bcce7"
      },
      "execution_count": 8,
      "outputs": [
        {
          "output_type": "stream",
          "name": "stdout",
          "text": [
            "Enter a no: 5\n",
            "5 4 3 2 1  \n",
            "5 4 3 2  \n",
            "5 4 3  \n",
            "5 4  \n",
            "5  \n"
          ]
        }
      ]
    },
    {
      "cell_type": "code",
      "source": [
        "x=int(input(\"Enter a no: \"))\n",
        "for i in range(1,n+1):\n",
        "    for j in range(1,i+1):\n",
        "        print(n-j+1, end=\" \")\n",
        "    print(\" \")"
      ],
      "metadata": {
        "colab": {
          "base_uri": "https://localhost:8080/"
        },
        "id": "jUNwwwIIso0b",
        "outputId": "d7cf89c0-c091-4b0c-8802-febc7568263d"
      },
      "execution_count": 9,
      "outputs": [
        {
          "output_type": "stream",
          "name": "stdout",
          "text": [
            "Enter a no: 5\n",
            "5  \n",
            "5 4  \n",
            "5 4 3  \n",
            "5 4 3 2  \n",
            "5 4 3 2 1  \n"
          ]
        }
      ]
    },
    {
      "cell_type": "code",
      "source": [
        "a=int(input(\"Enter a no: \"))\n",
        "for i in range(1,n+1):\n",
        "    for j in range(1,n-i+2):\n",
        "        print(j, end=\" \")\n",
        "    print(\" \")"
      ],
      "metadata": {
        "colab": {
          "base_uri": "https://localhost:8080/"
        },
        "id": "4J6hXQ1Xs0Rd",
        "outputId": "a102da86-c22d-43ae-e2f4-febfd1952341"
      },
      "execution_count": 10,
      "outputs": [
        {
          "output_type": "stream",
          "name": "stdout",
          "text": [
            "Enter a no: 5\n",
            "1 2 3 4 5  \n",
            "1 2 3 4  \n",
            "1 2 3  \n",
            "1 2  \n",
            "1  \n"
          ]
        }
      ]
    },
    {
      "cell_type": "code",
      "source": [
        "n=int(input(\"Enter a no: \"))\n",
        "k=1\n",
        "for i in range(1,n+1):\n",
        "    for j in range(1,i+1):\n",
        "        print(k, end=\" \")\n",
        "        k+=1\n",
        "    print(\" \")"
      ],
      "metadata": {
        "colab": {
          "base_uri": "https://localhost:8080/"
        },
        "id": "mnEdyMBzs-Mj",
        "outputId": "37802c7c-d7c6-4b11-9886-302ef551a394"
      },
      "execution_count": 11,
      "outputs": [
        {
          "output_type": "stream",
          "name": "stdout",
          "text": [
            "Enter a no: 5\n",
            "1  \n",
            "2 3  \n",
            "4 5 6  \n",
            "7 8 9 10  \n",
            "11 12 13 14 15  \n"
          ]
        }
      ]
    },
    {
      "cell_type": "code",
      "source": [
        "n=int(input(\"Enter a no: \"))\n",
        "for i in range(1,n+1):\n",
        "    for j in range(1,i+1):\n",
        "        print(i-j+1, end=\" \")\n",
        "    print(\" \")"
      ],
      "metadata": {
        "colab": {
          "base_uri": "https://localhost:8080/"
        },
        "id": "H10hbgqLtIxV",
        "outputId": "2ca3e3dd-e5a9-459b-ed6e-07ef751341e1"
      },
      "execution_count": 12,
      "outputs": [
        {
          "output_type": "stream",
          "name": "stdout",
          "text": [
            "Enter a no: 5\n",
            "1  \n",
            "2 1  \n",
            "3 2 1  \n",
            "4 3 2 1  \n",
            "5 4 3 2 1  \n"
          ]
        }
      ]
    },
    {
      "cell_type": "code",
      "source": [
        "n=int(input(\"Enter a no: \"))\n",
        "for i in range(1,n+1):\n",
        "    for j in range(1,i+1):\n",
        "        print(i, end=\" \")\n",
        "        i+=5\n",
        "    print(\" \")"
      ],
      "metadata": {
        "colab": {
          "base_uri": "https://localhost:8080/"
        },
        "id": "S31zHTObtSCI",
        "outputId": "248266e6-ad54-4705-a5f3-aaf26b521e4a"
      },
      "execution_count": 13,
      "outputs": [
        {
          "output_type": "stream",
          "name": "stdout",
          "text": [
            "Enter a no: 5\n",
            "1  \n",
            "2 7  \n",
            "3 8 13  \n",
            "4 9 14 19  \n",
            "5 10 15 20 25  \n"
          ]
        }
      ]
    },
    {
      "cell_type": "code",
      "source": [
        "x=int(input(\"Enter a no: \"))\n",
        "for i in range(0,n):\n",
        "    for a in range(1,n-i+1):\n",
        "        print(\" \",end=\"\")\n",
        "    #for j in range(1,i+1):\n",
        "    print(11**i, end=\" \")\n",
        "    print(\" \")"
      ],
      "metadata": {
        "colab": {
          "base_uri": "https://localhost:8080/"
        },
        "id": "ZasttsxPtX5m",
        "outputId": "a9f6e5de-fcd6-4aaf-c537-7ea8d39228a7"
      },
      "execution_count": 14,
      "outputs": [
        {
          "output_type": "stream",
          "name": "stdout",
          "text": [
            "Enter a no: 5\n",
            "     1  \n",
            "    11  \n",
            "   121  \n",
            "  1331  \n",
            " 14641  \n"
          ]
        }
      ]
    },
    {
      "cell_type": "code",
      "source": [
        "n=int(input(\"Enter a no: \"))   \n",
        "for i in range(1, n+1,):\n",
        "    print(\" \")\n",
        "    for a in range(1,i+1):\n",
        "        print(a,end=\" \")\n",
        "    for j in range(1,i):\n",
        "        print(i-j, end=\" \")\n",
        "    print(\" \")\n",
        "    "
      ],
      "metadata": {
        "colab": {
          "base_uri": "https://localhost:8080/"
        },
        "id": "5zuZ3DsYtg_A",
        "outputId": "b6e9f13b-c47d-4081-b0cd-f193b6c9b489"
      },
      "execution_count": 15,
      "outputs": [
        {
          "output_type": "stream",
          "name": "stdout",
          "text": [
            "Enter a no: 5\n",
            " \n",
            "1  \n",
            " \n",
            "1 2 1  \n",
            " \n",
            "1 2 3 2 1  \n",
            " \n",
            "1 2 3 4 3 2 1  \n",
            " \n",
            "1 2 3 4 5 4 3 2 1  \n"
          ]
        }
      ]
    },
    {
      "cell_type": "code",
      "source": [
        "x=int(input(\"Enter a no: \"))\n",
        "for i in range(1,n+1):\n",
        "    for a in range(1,i+1):\n",
        "        print(\" \",end=\"\")\n",
        "    for j in range(1,n+2-i):\n",
        "        print(j, end=\" \")\n",
        "    print(\" \")"
      ],
      "metadata": {
        "colab": {
          "base_uri": "https://localhost:8080/"
        },
        "id": "zD2eZ2XRtnzY",
        "outputId": "e314f92f-fb8d-4b2f-a33f-10ad51be6d84"
      },
      "execution_count": 16,
      "outputs": [
        {
          "output_type": "stream",
          "name": "stdout",
          "text": [
            "Enter a no: 5\n",
            " 1 2 3 4 5  \n",
            "  1 2 3 4  \n",
            "   1 2 3  \n",
            "    1 2  \n",
            "     1  \n"
          ]
        }
      ]
    },
    {
      "cell_type": "code",
      "source": [
        "x=int(input(\"Enter a no: \"))\n",
        "for i in range(1,n+1):\n",
        "    for a in range(1,n-i+1):\n",
        "        print(\" \",end=\"\")\n",
        "    for j in range(1,i+1):\n",
        "        print(j, end=\" \")\n",
        "    print(\" \")\n",
        "for i in range(1,n+1):\n",
        "    for a in range(1,i+1):\n",
        "        print(\" \",end=\"\")\n",
        "    for j in range(1,n+1-i):\n",
        "        print(j, end=\" \")\n",
        "    print(\" \")\n"
      ],
      "metadata": {
        "colab": {
          "base_uri": "https://localhost:8080/"
        },
        "id": "GhL_Um-gtubK",
        "outputId": "91586f58-7c24-44d6-a56b-b8d0463cb4fc"
      },
      "execution_count": 17,
      "outputs": [
        {
          "output_type": "stream",
          "name": "stdout",
          "text": [
            "Enter a no: 5\n",
            "    1  \n",
            "   1 2  \n",
            "  1 2 3  \n",
            " 1 2 3 4  \n",
            "1 2 3 4 5  \n",
            " 1 2 3 4  \n",
            "  1 2 3  \n",
            "   1 2  \n",
            "    1  \n",
            "      \n"
          ]
        }
      ]
    },
    {
      "cell_type": "code",
      "source": [
        "x=int(input(\"Enter a no: \"))\n",
        "for i in range(1,n+1):\n",
        "    for a in range(1,i):\n",
        "        print(\" \",end=\"\")\n",
        "    for j in range(1,n+2-i):\n",
        "        print(n-j+1, end=\"\")\n",
        "    print(\" \")\n",
        "for b in range(1, n+1):\n",
        "    for d in range(n,b,-1):\n",
        "        print(\" \",end=\"\")\n",
        "    for c in range(1,b+1):\n",
        "        print(n-b+c, end=\"\")\n",
        "    print(\" \")\n"
      ],
      "metadata": {
        "colab": {
          "base_uri": "https://localhost:8080/"
        },
        "id": "f_3SvfqWt9WN",
        "outputId": "2189fa6d-1209-4bc4-e80f-ad885bcd34cc"
      },
      "execution_count": 18,
      "outputs": [
        {
          "output_type": "stream",
          "name": "stdout",
          "text": [
            "Enter a no: 5\n",
            "54321 \n",
            " 5432 \n",
            "  543 \n",
            "   54 \n",
            "    5 \n",
            "    5 \n",
            "   45 \n",
            "  345 \n",
            " 2345 \n",
            "12345 \n"
          ]
        }
      ]
    },
    {
      "cell_type": "code",
      "source": [
        "x=int(input(\"Enter a no: \"))\n",
        "for i in range(1,n+1):\n",
        "    for a in range(1,i):\n",
        "        print(\" \",end=\"\")\n",
        "    for j in range(1,n+2-i):\n",
        "        print(j+i-1, end=\" \")\n",
        "    print(\" \")\n",
        "for b in range(1, n+1):\n",
        "    for d in range(n,b,-1):\n",
        "        print(\" \",end=\"\")\n",
        "    for c in range(1,b+1):\n",
        "        print(n-b+c, end=\" \")\n",
        "    print(\" \")"
      ],
      "metadata": {
        "colab": {
          "base_uri": "https://localhost:8080/"
        },
        "id": "4eNpCvcEuGTi",
        "outputId": "31a02225-388e-4b6a-804a-cf418a81ca31"
      },
      "execution_count": 19,
      "outputs": [
        {
          "output_type": "stream",
          "name": "stdout",
          "text": [
            "Enter a no: 5\n",
            "1 2 3 4 5  \n",
            " 2 3 4 5  \n",
            "  3 4 5  \n",
            "   4 5  \n",
            "    5  \n",
            "    5  \n",
            "   4 5  \n",
            "  3 4 5  \n",
            " 2 3 4 5  \n",
            "1 2 3 4 5  \n"
          ]
        }
      ]
    },
    {
      "cell_type": "code",
      "source": [
        "x=int(input(\"Enter a no: \"))\n",
        "for b in range(1, n+1):\n",
        "    for d in range(n,b,-1):\n",
        "        print(\" \",end=\"\")\n",
        "    for c in range(1,b+1):\n",
        "        print(n-b+c, end=\" \")\n",
        "    print(\" \")"
      ],
      "metadata": {
        "colab": {
          "base_uri": "https://localhost:8080/"
        },
        "id": "18hiyyn3uPPS",
        "outputId": "0d10007d-a44b-4f7f-fa2e-00772b084cf2"
      },
      "execution_count": 20,
      "outputs": [
        {
          "output_type": "stream",
          "name": "stdout",
          "text": [
            "Enter a no: 5\n",
            "    5  \n",
            "   4 5  \n",
            "  3 4 5  \n",
            " 2 3 4 5  \n",
            "1 2 3 4 5  \n"
          ]
        }
      ]
    },
    {
      "cell_type": "code",
      "source": [
        "x=int(input(\"Enter a no: \"))   \n",
        "for i in range(1, n+1,):\n",
        "    print(\" \")\n",
        "    for b in range(n,i,-1):\n",
        "        print(\" \",end=\" \")\n",
        "    for a in range(1,i+1):\n",
        "        print(a,end=\" \")\n",
        "    for j in range(1,i):\n",
        "        print(i-j, end=\" \")\n",
        "    print(\" \")"
      ],
      "metadata": {
        "colab": {
          "base_uri": "https://localhost:8080/"
        },
        "id": "_t8TiwzeuWxM",
        "outputId": "5618ec45-2f01-455e-bec6-3511b2810a41"
      },
      "execution_count": 21,
      "outputs": [
        {
          "output_type": "stream",
          "name": "stdout",
          "text": [
            "Enter a no: 5\n",
            " \n",
            "        1  \n",
            " \n",
            "      1 2 1  \n",
            " \n",
            "    1 2 3 2 1  \n",
            " \n",
            "  1 2 3 4 3 2 1  \n",
            " \n",
            "1 2 3 4 5 4 3 2 1  \n"
          ]
        }
      ]
    },
    {
      "cell_type": "code",
      "source": [
        "x=int(input(\"Enter a no: \"))\n",
        "for i in range(1,n+1):#\n",
        "    for j in range(1,i+1):\n",
        "        print(j%2, end=\" \")\n",
        "    print(\" \")"
      ],
      "metadata": {
        "colab": {
          "base_uri": "https://localhost:8080/"
        },
        "id": "4RDOrWvCudSM",
        "outputId": "7f9989fc-ee35-48b4-9f6b-f9c47676fb73"
      },
      "execution_count": 22,
      "outputs": [
        {
          "output_type": "stream",
          "name": "stdout",
          "text": [
            "Enter a no: 5\n",
            "1  \n",
            "1 0  \n",
            "1 0 1  \n",
            "1 0 1 0  \n",
            "1 0 1 0 1  \n"
          ]
        }
      ]
    },
    {
      "cell_type": "code",
      "source": [
        "x=int(input(\"Enter a no: \"))\n",
        "a=0\n",
        "for i in range(1,n+1):#\n",
        "    for j in range(1,n+1):\n",
        "        if i==j:\n",
        "            print(j, end=\" \")\n",
        "        else:\n",
        "            print(a, end=\" \")\n",
        "    print(\" \")"
      ],
      "metadata": {
        "colab": {
          "base_uri": "https://localhost:8080/"
        },
        "id": "AIi-4rSMuifH",
        "outputId": "e90ab710-e901-4568-a5b8-0ce16bf47e6b"
      },
      "execution_count": 23,
      "outputs": [
        {
          "output_type": "stream",
          "name": "stdout",
          "text": [
            "Enter a no: 5\n",
            "1 0 0 0 0  \n",
            "0 2 0 0 0  \n",
            "0 0 3 0 0  \n",
            "0 0 0 4 0  \n",
            "0 0 0 0 5  \n"
          ]
        }
      ]
    },
    {
      "cell_type": "code",
      "source": [
        "x=int(input(\"Enter a no: \"))\n",
        "for i in range(1,n+1):\n",
        "    for j in range(1,n-i+1):\n",
        "        print(1, end=\" \")\n",
        "    for j in range(1,i+1):\n",
        "        print(i, end=\" \")\n",
        "    print(\" \")\n"
      ],
      "metadata": {
        "colab": {
          "base_uri": "https://localhost:8080/"
        },
        "id": "NpwZNVixutLn",
        "outputId": "d509f16a-94d9-4617-f44e-b71232b7b324"
      },
      "execution_count": 24,
      "outputs": [
        {
          "output_type": "stream",
          "name": "stdout",
          "text": [
            "Enter a no: 5\n",
            "1 1 1 1 1  \n",
            "1 1 1 2 2  \n",
            "1 1 3 3 3  \n",
            "1 4 4 4 4  \n",
            "5 5 5 5 5  \n"
          ]
        }
      ]
    },
    {
      "cell_type": "code",
      "source": [
        "x=int(input(\"Enter a no: \"))\n",
        "for i in range(1,n+1):#\n",
        "    for j in range(1,n-i+1):\n",
        "        print(j+i-1, end=\" \")\n",
        "    for j in range(1,n+2-i):\n",
        "        print(n-j+1, end=\" \")\n",
        "    print(\" \")"
      ],
      "metadata": {
        "colab": {
          "base_uri": "https://localhost:8080/"
        },
        "id": "m7VvAtKSu5_V",
        "outputId": "cc5c5a23-b3a0-4b58-9033-99be331a2f80"
      },
      "execution_count": 25,
      "outputs": [
        {
          "output_type": "stream",
          "name": "stdout",
          "text": [
            "Enter a no: 5\n",
            "1 2 3 4 5 4 3 2 1  \n",
            "2 3 4 5 4 3 2  \n",
            "3 4 5 4 3  \n",
            "4 5 4  \n",
            "5  \n"
          ]
        }
      ]
    },
    {
      "cell_type": "code",
      "source": [
        "x=int(input(\"Enter a no: \"))\n",
        "for i in range(1,n+1):\n",
        "    for a in range(1,n-i+1):\n",
        "        print(\" \",end=\"\")\n",
        "    for j in range(1,i+1):\n",
        "        print(i, end=\" \")\n",
        "    print(\" \")"
      ],
      "metadata": {
        "colab": {
          "base_uri": "https://localhost:8080/"
        },
        "id": "ATVTIjAmvCbx",
        "outputId": "d4095620-18d2-4c14-96ed-4b32ded21a8d"
      },
      "execution_count": 26,
      "outputs": [
        {
          "output_type": "stream",
          "name": "stdout",
          "text": [
            "Enter a no: 5\n",
            "    1  \n",
            "   2 2  \n",
            "  3 3 3  \n",
            " 4 4 4 4  \n",
            "5 5 5 5 5  \n"
          ]
        }
      ]
    },
    {
      "cell_type": "code",
      "source": [
        ""
      ],
      "metadata": {
        "id": "ieQ-ujaNvN6-"
      },
      "execution_count": null,
      "outputs": []
    }
  ]
}