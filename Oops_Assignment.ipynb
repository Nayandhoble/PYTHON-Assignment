{
  "nbformat": 4,
  "nbformat_minor": 0,
  "metadata": {
    "colab": {
      "name": "Oops  Assignment",
      "provenance": [],
      "collapsed_sections": [],
      "toc_visible": true,
      "authorship_tag": "ABX9TyNXvi26FouplU24KNSFSEOI",
      "include_colab_link": true
    },
    "kernelspec": {
      "name": "python3",
      "display_name": "Python 3"
    },
    "language_info": {
      "name": "python"
    }
  },
  "cells": [
    {
      "cell_type": "markdown",
      "metadata": {
        "id": "view-in-github",
        "colab_type": "text"
      },
      "source": [
        "<a href=\"https://colab.research.google.com/github/Nayandhoble/PYTHON-Assignment/blob/main/Oops_Assignment.ipynb\" target=\"_parent\"><img src=\"https://colab.research.google.com/assets/colab-badge.svg\" alt=\"Open In Colab\"/></a>"
      ]
    },
    {
      "cell_type": "markdown",
      "source": [
        "Write a Rectangle class in Python language, allowing you to build a rectangle with length and width attributes.Create a Perimeter() method to calculate the perimeter of the rectangle and a Area() method to calculate the area of ​​the rectangle.Create a method display() that display the length, width, perimeter and area of an object created using an instantiation on rectangle class.Create a Parallelepipede child class inheriting from the Rectangle class and with a height attribute and another Volume() method to calculate the volume of the Parallelepiped."
      ],
      "metadata": {
        "id": "5WbbbtkvPSfE"
      }
    },
    {
      "cell_type": "code",
      "source": [
        "class Rectangle:\n",
        "  def length(self,length):\n",
        "    self.length=length\n",
        "    print(\"length:\",self.length)\n",
        "  def width(self,width):  \n",
        "    self.width=width\n",
        "    print(\"width:\",self.width)\n",
        "  def perimeter(self):\n",
        "    self.perimeter=2*(self.length+self.width)\n",
        "    print(\"perimeter:\",self.perimeter)\n",
        "  def area(self):\n",
        "    self.area=(self.length*self.width)\n",
        "    print(\"Area:\",self.perimeter)\n",
        "  def display(self):\n",
        "    print(\"Length: \",self.length)\n",
        "    print(\"Width: \",self.width)\n",
        "    print(\"Perimeter: \",self.perimeter)\n",
        "    print(\"Area: \",self.area)   \n",
        "  "
      ],
      "metadata": {
        "id": "tnhjTifxPT_m"
      },
      "execution_count": null,
      "outputs": []
    },
    {
      "cell_type": "code",
      "source": [
        "class Parallelepipede (Rectangle):\n",
        "  def height(self,height):\n",
        "    self.height=height\n",
        "\n",
        "  def volume(self): \n",
        "    self.volume=(self.area*self.height)\n"
      ],
      "metadata": {
        "id": "LHAis2TsU2WO"
      },
      "execution_count": null,
      "outputs": []
    },
    {
      "cell_type": "code",
      "source": [
        "r=Parallelepipede()"
      ],
      "metadata": {
        "id": "aB3wwJhqWST3"
      },
      "execution_count": null,
      "outputs": []
    },
    {
      "cell_type": "code",
      "source": [
        "r.length(7)"
      ],
      "metadata": {
        "colab": {
          "base_uri": "https://localhost:8080/"
        },
        "id": "NzJMxJ50MiIW",
        "outputId": "a19798f6-bb3e-43b2-c33a-f2c1501b36d5"
      },
      "execution_count": null,
      "outputs": [
        {
          "output_type": "stream",
          "name": "stdout",
          "text": [
            "length: 7\n"
          ]
        }
      ]
    },
    {
      "cell_type": "code",
      "source": [
        "r.width(5)"
      ],
      "metadata": {
        "colab": {
          "base_uri": "https://localhost:8080/"
        },
        "id": "ljMCfiuYMpma",
        "outputId": "a3850b57-66ce-432a-eb06-fb048b5628eb"
      },
      "execution_count": null,
      "outputs": [
        {
          "output_type": "stream",
          "name": "stdout",
          "text": [
            "width: 5\n"
          ]
        }
      ]
    },
    {
      "cell_type": "code",
      "source": [
        "r.perimeter()"
      ],
      "metadata": {
        "colab": {
          "base_uri": "https://localhost:8080/"
        },
        "id": "YbbKBwtkNmgc",
        "outputId": "19a23494-eb64-4c01-ea78-d95076f29d5e"
      },
      "execution_count": null,
      "outputs": [
        {
          "output_type": "stream",
          "name": "stdout",
          "text": [
            "perimeter: 24\n"
          ]
        }
      ]
    },
    {
      "cell_type": "code",
      "source": [
        "r.area()"
      ],
      "metadata": {
        "colab": {
          "base_uri": "https://localhost:8080/"
        },
        "id": "7lHjETxZNpHV",
        "outputId": "ef03350d-a2bb-483b-da0e-2c2551033eda"
      },
      "execution_count": null,
      "outputs": [
        {
          "output_type": "stream",
          "name": "stdout",
          "text": [
            "Area: 24\n"
          ]
        }
      ]
    },
    {
      "cell_type": "code",
      "source": [
        "r.height(2)"
      ],
      "metadata": {
        "id": "726ZShl1NrEC"
      },
      "execution_count": null,
      "outputs": []
    },
    {
      "cell_type": "code",
      "source": [
        "r.volume()"
      ],
      "metadata": {
        "id": "imtz6WgfNu1c"
      },
      "execution_count": null,
      "outputs": []
    },
    {
      "cell_type": "code",
      "source": [
        "print(r.volume)"
      ],
      "metadata": {
        "colab": {
          "base_uri": "https://localhost:8080/"
        },
        "id": "STJpTm5rNx6u",
        "outputId": "de2a5e6e-6634-40f0-e47e-1395f12d5f03"
      },
      "execution_count": null,
      "outputs": [
        {
          "output_type": "stream",
          "name": "stdout",
          "text": [
            "70\n"
          ]
        }
      ]
    },
    {
      "cell_type": "markdown",
      "source": [
        "2.Create a Python class Person with attributes: name and age of type string.Create a display() method that displays the name and age of an object created via the Person class.Create a child class Student which inherits from the Person class and which also has a section attribute.Create a method displayStudent() that displays the name, age and section of an object created via the Student class.Create a student object via an instantiation on the Student class and then test the displayStudent method"
      ],
      "metadata": {
        "id": "H5ww212aOdlW"
      }
    },
    {
      "cell_type": "code",
      "source": [
        "class Person:\n",
        "  def name(self):\n",
        "    self.name=input(\"Enter your name: \")\n",
        "  def age(self):\n",
        "    self.age=input(\"enter your age: \")\n",
        "  def display(self):\n",
        "    print(\"Name:\",self.name, \"Age:\",self.age)\n"
      ],
      "metadata": {
        "id": "sTmjlCaxOhbJ"
      },
      "execution_count": null,
      "outputs": []
    },
    {
      "cell_type": "code",
      "source": [
        "class Student(Person):\n",
        "  def section(self):\n",
        "    self.section=input(\"Enter your section: \")\n",
        "  def display(self) :\n",
        "    print(\"Name:\",self.name, \"Age:\",self.age, \"Section:\",self.section) "
      ],
      "metadata": {
        "id": "wv_dI9B1QEOc"
      },
      "execution_count": null,
      "outputs": []
    },
    {
      "cell_type": "code",
      "source": [
        "s=Person()"
      ],
      "metadata": {
        "id": "NRaF8b5KRQZ0"
      },
      "execution_count": null,
      "outputs": []
    },
    {
      "cell_type": "code",
      "source": [
        "s.name()\n",
        "s.age()\n",
        "s.display()"
      ],
      "metadata": {
        "colab": {
          "base_uri": "https://localhost:8080/"
        },
        "id": "bhOxRPmrRX5N",
        "outputId": "30861599-4a72-46b9-b623-d8004bb392d2"
      },
      "execution_count": null,
      "outputs": [
        {
          "output_type": "stream",
          "name": "stdout",
          "text": [
            "Enter your name: Nayan\n",
            "enter your age: 26\n",
            "Name: Nayan Age: 26\n"
          ]
        }
      ]
    },
    {
      "cell_type": "code",
      "source": [
        "s1=Student()"
      ],
      "metadata": {
        "id": "Adyp9EbeRlg6"
      },
      "execution_count": null,
      "outputs": []
    },
    {
      "cell_type": "code",
      "source": [
        "s1.name()\n",
        "s1.age()\n",
        "s1.section()\n",
        "s1.display()"
      ],
      "metadata": {
        "colab": {
          "base_uri": "https://localhost:8080/"
        },
        "id": "-M_EXV0dR0lr",
        "outputId": "018f7fde-20c0-4b9e-ace7-ebe1bafc506c"
      },
      "execution_count": null,
      "outputs": [
        {
          "output_type": "stream",
          "name": "stdout",
          "text": [
            "Enter your name: vaibhav\n",
            "enter your age: 24\n",
            "Enter your section: D\n",
            "Name: vaibhav Age: 24 Section: D\n"
          ]
        }
      ]
    },
    {
      "cell_type": "markdown",
      "source": [
        "3.Define a Book class with the following attributes: Title, Author (Full name), Price.Define a constructor used to initialize the attributes of the method with values entered by the user.Set the View() method to display information for the current book.Write a program to testing the Book class"
      ],
      "metadata": {
        "id": "Hhsh-A6lSpu6"
      }
    },
    {
      "cell_type": "code",
      "source": [
        "class Book:\n",
        "  def __init__(self):\n",
        "    self.title=input(\"Enter book name: \")\n",
        "    self.author=input(\"Enter author name: \")\n",
        "    self.price=input(\"Enter price: \")\n",
        "  def view(self):\n",
        "    print(\"Title:\",self.title,\"Author:\",self.author,\"Price:\",self.price)"
      ],
      "metadata": {
        "id": "iqVRgtI4S02P"
      },
      "execution_count": null,
      "outputs": []
    },
    {
      "cell_type": "code",
      "source": [
        "b=Book()"
      ],
      "metadata": {
        "id": "MIQXSyn-Vgt9",
        "colab": {
          "base_uri": "https://localhost:8080/"
        },
        "outputId": "268ac5f5-cb08-4b8f-aca2-2693e75ae65a"
      },
      "execution_count": null,
      "outputs": [
        {
          "name": "stdout",
          "output_type": "stream",
          "text": [
            "Enter book name: I Wish I Was An Extrovert\n",
            "Enter author name: F.M.Khan\n",
            "Enter price: 100\n"
          ]
        }
      ]
    },
    {
      "cell_type": "code",
      "source": [
        "b.view()"
      ],
      "metadata": {
        "colab": {
          "base_uri": "https://localhost:8080/"
        },
        "id": "Ax8vM29pXu1r",
        "outputId": "f5febc6a-9448-4965-8f24-d25f2b5aa7aa"
      },
      "execution_count": null,
      "outputs": [
        {
          "output_type": "stream",
          "name": "stdout",
          "text": [
            "Title: I Wish I Was An Extrovert Author: F.M.Khan Price: 100\n"
          ]
        }
      ]
    },
    {
      "cell_type": "markdown",
      "source": [
        "4.Create a class called TK_extended which inherits from TK class and having the attributes:\n",
        "\n",
        "Master: that represents the name of the main window\n",
        "title: that represents the title of the main window 2 - Create a method called create() that creates the window 3 - Create a method called resize(width, height) that can resize the window. 4 - Create a method called generate() to generate the window"
      ],
      "metadata": {
        "id": "xKVsGvERYNyz"
      }
    },
    {
      "cell_type": "code",
      "source": [
        "class TK_extented(Tk)):\n",
        "  def master(self):\n",
        "    self.master"
      ],
      "metadata": {
        "id": "iA8qi8hDYQnn"
      },
      "execution_count": null,
      "outputs": []
    },
    {
      "cell_type": "markdown",
      "source": [
        "\n",
        "5. Create a child class Bus that will inherit all of the variables and methods of the Vehicle class. In the vehicle class create relevant methods and variables. Define a property that must have the same value for every class instance (object). Define a class attribute \"color” with a default value white. I.e., Every Vehicle should be white"
      ],
      "metadata": {
        "id": "GdyY7ncZCig3"
      }
    },
    {
      "cell_type": "code",
      "source": [
        "class Vehicle:\n",
        "  def __init__(self,color='white'):\n",
        "    self.wheels=int(input('number of wheels:'))\n",
        "    self.colour=color\n",
        "class Bus(Vehicle):\n",
        "  def info(self):\n",
        "    self.length=float(input('lenght:'))\n",
        "    self.brand=input('enter brand name:')\n",
        "  def display(self):\n",
        "    print('number of wheels:',self.wheels,'color:',self.colour,'length:',self.length,'brand:',self.brand)"
      ],
      "metadata": {
        "id": "OGzmu7Y0FnCg"
      },
      "execution_count": null,
      "outputs": []
    },
    {
      "cell_type": "code",
      "source": [
        "b=Bus()"
      ],
      "metadata": {
        "colab": {
          "base_uri": "https://localhost:8080/"
        },
        "id": "sRxTFs0-HX2L",
        "outputId": "a4038179-0da9-4a33-ec75-1121bf160bd0"
      },
      "execution_count": null,
      "outputs": [
        {
          "name": "stdout",
          "output_type": "stream",
          "text": [
            "number of wheels:8\n"
          ]
        }
      ]
    },
    {
      "cell_type": "code",
      "source": [
        "b.info()"
      ],
      "metadata": {
        "colab": {
          "base_uri": "https://localhost:8080/"
        },
        "id": "EMyE7ts7HlJ1",
        "outputId": "f513fe67-080e-449c-adca-938934fa710f"
      },
      "execution_count": null,
      "outputs": [
        {
          "name": "stdout",
          "output_type": "stream",
          "text": [
            "lenght:11\n",
            "enter brand name:Volvo\n"
          ]
        }
      ]
    },
    {
      "cell_type": "code",
      "source": [
        "b.display()"
      ],
      "metadata": {
        "colab": {
          "base_uri": "https://localhost:8080/"
        },
        "id": "lZGyn_lUHu2P",
        "outputId": "17c21b76-cc0d-497e-fc4f-420f81fb7283"
      },
      "execution_count": null,
      "outputs": [
        {
          "output_type": "stream",
          "name": "stdout",
          "text": [
            "number of wheels: 8 color: white length: 11.0 brand: Volvo\n"
          ]
        }
      ]
    },
    {
      "cell_type": "markdown",
      "source": [
        "6. Create a Python class called BankAccount which represents a bank account, having as attributes: accountNumber (numeric type), name (name of the account owner as string type), balance.Create a constructor with parameters: accountNumber, name, balance.Create a Deposit() method which manages the deposit actions.Create a Withdrawal() method which manages withdrawals actions.Create an bankFees() method to apply the bank fees with a percentage of 5% of the balance account.Create a display() method to display account details.Give the complete code for the BankAccount class."
      ],
      "metadata": {
        "id": "PoRxA8IzH-7S"
      }
    },
    {
      "cell_type": "code",
      "source": [
        "class Bankaccount:\n",
        "  def __init__(self):\n",
        "    self.account_number=int(input(\"Enter your account number: \"))\n",
        "    print(\"Account Number: \",self.account_number)\n",
        "    self.name=input(\"Enter your Name: \")\n",
        "    self.balance=float(input(\"Enter Amount: \"))\n",
        "  def deposit(self):\n",
        "    self.deposit=float(input(\"Enter Amount to Deposit: \"))\n",
        "    self.balance+=self.deposit\n",
        "    print(\"Total Balance: \",self.balance,\"Deposit Amount: \",self.deposit)\n",
        "  def withdrawal(self):\n",
        "    self.withdrawal=float(input(\"Enter Amount to Withdraw: \"))\n",
        "    self.balance-=self.withdrawal\n",
        "    print(\"Withdrawal Amount: \",self.withdrawal,\"Total Balance: \",self.balance)\n",
        "  def bank_fees(self):\n",
        "    self.balance*=0.95\n",
        "  def display(self):\n",
        "    print(\"Account-Number: \",self.account_number,\"Name: \",self.name,\"Account-Balance: \",self.balance)      \n",
        "\n"
      ],
      "metadata": {
        "id": "f72bXzORH8wO"
      },
      "execution_count": null,
      "outputs": []
    },
    {
      "cell_type": "code",
      "source": [
        "ba=Bankaccount()"
      ],
      "metadata": {
        "colab": {
          "base_uri": "https://localhost:8080/"
        },
        "id": "5SCCREP2ZjzC",
        "outputId": "35bfd46d-9432-4c98-c17b-d0ebcb390377"
      },
      "execution_count": null,
      "outputs": [
        {
          "name": "stdout",
          "output_type": "stream",
          "text": [
            "Enter your account number: 10160011\n",
            "Account Number:  10160011\n",
            "Enter your Name: Nayan\n",
            "Enter Amount: 5000\n"
          ]
        }
      ]
    },
    {
      "cell_type": "code",
      "source": [
        "ba.deposit()"
      ],
      "metadata": {
        "colab": {
          "base_uri": "https://localhost:8080/"
        },
        "id": "XgJ7K3P1Zw6y",
        "outputId": "c5e4cfe6-6512-4b3f-c56c-1c368ed0f393"
      },
      "execution_count": null,
      "outputs": [
        {
          "output_type": "stream",
          "name": "stdout",
          "text": [
            "Enter Amount to Deposit: 2000\n",
            "Total Balance:  7000.0 Deposit Amount:  2000.0\n"
          ]
        }
      ]
    },
    {
      "cell_type": "code",
      "source": [
        "ba.withdrawal()"
      ],
      "metadata": {
        "colab": {
          "base_uri": "https://localhost:8080/"
        },
        "id": "FVum5mRXaMF3",
        "outputId": "c35b348d-a7d8-4090-9d0b-3588d0680013"
      },
      "execution_count": null,
      "outputs": [
        {
          "output_type": "stream",
          "name": "stdout",
          "text": [
            "Enter Amount to Withdraw: 1000\n",
            "Withdrawal Amount:  1000.0 Total Balance:  6000.0\n"
          ]
        }
      ]
    },
    {
      "cell_type": "code",
      "source": [
        "ba.bank_fees()"
      ],
      "metadata": {
        "id": "WZXJNE3CaT2R"
      },
      "execution_count": null,
      "outputs": []
    },
    {
      "cell_type": "code",
      "source": [
        "ba.display()"
      ],
      "metadata": {
        "colab": {
          "base_uri": "https://localhost:8080/"
        },
        "id": "EvKy63PFabZd",
        "outputId": "6d1bdd79-3345-4d66-dbcb-beca0023043b"
      },
      "execution_count": null,
      "outputs": [
        {
          "output_type": "stream",
          "name": "stdout",
          "text": [
            "Account-Number:  10160011 Name:  Nayan Account-Balance:  5700.0\n"
          ]
        }
      ]
    },
    {
      "cell_type": "code",
      "source": [
        ""
      ],
      "metadata": {
        "id": "UsEeF-Bfafq_"
      },
      "execution_count": null,
      "outputs": []
    }
  ]
}