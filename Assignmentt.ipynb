{
  "nbformat": 4,
  "nbformat_minor": 0,
  "metadata": {
    "colab": {
      "name": "Assignmentt",
      "provenance": [],
      "collapsed_sections": [],
      "authorship_tag": "ABX9TyNAiSRJm/OMpeWGGxCfe+Y+",
      "include_colab_link": true
    },
    "kernelspec": {
      "name": "python3",
      "display_name": "Python 3"
    },
    "language_info": {
      "name": "python"
    }
  },
  "cells": [
    {
      "cell_type": "markdown",
      "metadata": {
        "id": "view-in-github",
        "colab_type": "text"
      },
      "source": [
        "<a href=\"https://colab.research.google.com/github/Nayandhoble/PYTHON-Assignment/blob/main/Assignmentt.ipynb\" target=\"_parent\"><img src=\"https://colab.research.google.com/assets/colab-badge.svg\" alt=\"Open In Colab\"/></a>"
      ]
    },
    {
      "cell_type": "markdown",
      "source": [
        "1. Write a Python program find a list of integers with exactly two occurrences of nineteen and at least three occurrences of five.\n",
        "\n",
        "\n",
        "[19, 19, 5, 5, 5, 5, 5]\n",
        "Output:\n",
        "True\n",
        "\n",
        "[19, 15, 15, 5, 3, 3, 5, 2]\n",
        "Output:\n",
        "False"
      ],
      "metadata": {
        "id": "E5IeG-aQOFjP"
      }
    },
    {
      "cell_type": "code",
      "source": [
        "def test(a):\n",
        "  return a.count(19)==2 and a.count(5)>=3\n",
        "\n",
        "\n",
        "\n",
        "a=[19, 19, 5, 5, 5, 5, 5]\n",
        "print(a)\n",
        "print(test(a))\n",
        "\n",
        "a=[19, 15, 15, 5, 3, 3, 5, 2] \n",
        "print(a)\n",
        "print(test(a))\n",
        "   "
      ],
      "metadata": {
        "colab": {
          "base_uri": "https://localhost:8080/"
        },
        "id": "qoTlgnejOHdl",
        "outputId": "0e0da2fa-9d58-4219-b737-9747510e5284"
      },
      "execution_count": null,
      "outputs": [
        {
          "output_type": "stream",
          "name": "stdout",
          "text": [
            "[19, 19, 5, 5, 5, 5, 5]\n",
            "True\n",
            "[19, 15, 15, 5, 3, 3, 5, 2]\n",
            "False\n"
          ]
        }
      ]
    },
    {
      "cell_type": "markdown",
      "source": [
        "2.Write a Python program that accept a list of integers and check the length and the fifth element. Return true if the length of the list is 8 and fifth element occurs thrice in the said list. "
      ],
      "metadata": {
        "id": "9l2QvBkRVKC3"
      }
    },
    {
      "cell_type": "code",
      "source": [
        "def check(list2):\n",
        "  return len(list2)==8 and list2.count(list2[4])==3\n",
        "\n",
        "\n",
        "list2=[ ] \n",
        "while True:\n",
        "  i=(input(\"Enter the elements: \"))\n",
        "  if i ==\"\":\n",
        "    break\n",
        "\n",
        "  else:\n",
        "    list2.append(int(i))\n",
        "\n",
        "print(list2)\n",
        "print(check(list2))\n",
        "\n",
        "\n",
        "\n"
      ],
      "metadata": {
        "colab": {
          "base_uri": "https://localhost:8080/"
        },
        "id": "mXmgH-TjeSBs",
        "outputId": "ff3a00ca-8b41-472c-8258-e00247f597df"
      },
      "execution_count": null,
      "outputs": [
        {
          "output_type": "stream",
          "name": "stdout",
          "text": [
            "Enter the elements: 19\n",
            "Enter the elements: 19\n",
            "Enter the elements: 15\n",
            "Enter the elements: 5\n",
            "Enter the elements: 5\n",
            "Enter the elements: 5\n",
            "Enter the elements: 1\n",
            "Enter the elements: 2\n",
            "Enter the elements: \n",
            "[19, 19, 15, 5, 5, 5, 1, 2]\n",
            "True\n"
          ]
        }
      ]
    },
    {
      "cell_type": "markdown",
      "source": [
        "3.  Write a Python program to split a string of words separated by commas and spaces into two lists, words and separators. \n",
        "Input: The dance, held in the school gym, ended at midnight.\n",
        "Output:\n",
        "[['The', 'dance', 'held', 'in', 'the', 'school', 'gym', 'ended', 'at', 'midnight.'], [' ', ', ', ' ', ' ', ' ', ' ', ', ', ' ', ' ']]"
      ],
      "metadata": {
        "id": "X4h5A7GqjJPZ"
      }
    },
    {
      "cell_type": "code",
      "source": [
        "a='The dance, held in the school gym, ended at midnight.'\n",
        "b=a.split(',')\n",
        "c=\"\"\n",
        "for i in range (len(b)):\n",
        "  c+=b[i]\n",
        "d=c.split()\n",
        "q=[]\n",
        "for i in a:\n",
        "  if i==' ' or i==\",\":\n",
        "    q.append(i)\n",
        "w=[]\n",
        "w.append(d)\n",
        "w.append(q)\n",
        "print(w)"
      ],
      "metadata": {
        "id": "hO5GmmXujOU5",
        "colab": {
          "base_uri": "https://localhost:8080/"
        },
        "outputId": "bf7f56c9-f2f0-431a-bc52-6851cc659e61"
      },
      "execution_count": null,
      "outputs": [
        {
          "output_type": "stream",
          "name": "stdout",
          "text": [
            "[['The', 'dance', 'held', 'in', 'the', 'school', 'gym', 'ended', 'at', 'midnight.'], [' ', ',', ' ', ' ', ' ', ' ', ' ', ',', ' ', ' ', ' ']]\n"
          ]
        }
      ]
    },
    {
      "cell_type": "markdown",
      "source": [
        "\n",
        "4. Write a Python program to find missing numbers from a list. Input : [1,2,3,4,6,7,10]\n",
        "Output : [5, 8, 9]"
      ],
      "metadata": {
        "id": "qs82h4AujVE5"
      }
    },
    {
      "cell_type": "code",
      "source": [
        "list1=[1,2,3,4,5,6,7,8,9,10]\n",
        "l=set(list1)\n",
        "list2=[1,2,3,4,6,7,10]\n",
        "m=set(list2)\n",
        "w=l.difference(m)\n",
        "k=l-m\n",
        "print(sorted(w))\n",
        "print(sorted(k))\n",
        "\n"
      ],
      "metadata": {
        "colab": {
          "base_uri": "https://localhost:8080/"
        },
        "id": "JZWg0Lj-jYJ4",
        "outputId": "49b75b20-e0b8-46a5-a0d2-c5fd03627c1e"
      },
      "execution_count": null,
      "outputs": [
        {
          "output_type": "stream",
          "name": "stdout",
          "text": [
            "[5, 8, 9]\n",
            "[5, 8, 9]\n"
          ]
        }
      ]
    },
    {
      "cell_type": "markdown",
      "source": [
        "5. Write a Python program to push all zeros to the end of a list. Input : [0,2,3,4,6,7,10]\n",
        "Output : [2, 3, 4, 6, 7, 10, 0]"
      ],
      "metadata": {
        "id": "p7s6B5lKmUIp"
      }
    },
    {
      "cell_type": "code",
      "source": [
        "a=[0,2,3,4,6,7,10]\n",
        "print(\"input = \",a)\n",
        "for i in a:\n",
        "  if i==0:\n",
        "    a.remove(i)\n",
        "    a.append(i)\n",
        "print(\"output= \",a)"
      ],
      "metadata": {
        "colab": {
          "base_uri": "https://localhost:8080/"
        },
        "id": "IjiSnQI3mVSW",
        "outputId": "0a357ed8-78ec-4a6b-e402-6ef2ac824fe2"
      },
      "execution_count": null,
      "outputs": [
        {
          "output_type": "stream",
          "name": "stdout",
          "text": [
            "input =  [0, 2, 3, 4, 6, 7, 10]\n",
            "output=  [2, 3, 4, 6, 7, 10, 0]\n"
          ]
        }
      ]
    },
    {
      "cell_type": "code",
      "source": [
        ""
      ],
      "metadata": {
        "id": "BFFlss9CmmOS"
      },
      "execution_count": null,
      "outputs": []
    }
  ]
}